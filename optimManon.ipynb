{
 "cells": [
  {
   "cell_type": "markdown",
   "id": "50340fdf-cf0a-4fd9-8f67-bfaaa856e411",
   "metadata": {},
   "source": [
    "# Opimisation thèse Manon\n",
    "\n",
    "### Import des librairies"
   ]
  },
  {
   "cell_type": "code",
   "execution_count": 1,
   "id": "4717a2b6-48ef-489b-9059-a9784376fe13",
   "metadata": {
    "tags": []
   },
   "outputs": [],
   "source": [
    "import numpy as np\n",
    "import matplotlib.pyplot as plt"
   ]
  },
  {
   "cell_type": "markdown",
   "id": "c826f309-905e-4a88-aa3b-99d59737846a",
   "metadata": {},
   "source": [
    "## Présentation du problème\n",
    "\n",
    "On souhaite résoudre le problème suivant :\n",
    "$$\n",
    "    \\min_{x\\in K} f(x), \\quad \\text{with } K=\\{x\\in(\\mathbb{R}_+^*)^n \\vert h(x)\\geq 0\\}.\n",
    "$$\n",
    "Avec :\n",
    "$$\n",
    "    f(x)=\\sum_{i=1}^n x_i, \\quad h(x)=\\text{Module de stabilité de la matrice }A(x).\n",
    "$$\n",
    "\n",
    "## Définitions basiques\n",
    "\n",
    "### Elements utiles"
   ]
  },
  {
   "cell_type": "code",
   "execution_count": 3,
   "id": "a7720490-58d4-43e8-8da1-0ff27c9d0bea",
   "metadata": {
    "tags": []
   },
   "outputs": [],
   "source": [
    "# Matrice D (points du graph)\n",
    "D12=1.4\n",
    "D21=0.8\n",
    "D13 = 0.8\n",
    "D31 = 0.2\n",
    "D32 = 0.6\n",
    "D23 = 0.5\n",
    "\n",
    "D = np.array([[-D21-D31,D12,D13],\n",
    "              [D21,-D12-D32,D23],\n",
    "              [D31,D32,-D13-D23]])\n",
    "# D42 = 0; D52 = 0; D24 = 0; D25=0;D43=0;D53=0;D34=0;D35=0\n",
    "\n",
    "# Constantes et fonctions\n",
    "n = np.shape(D)[0] \n",
    "I = np.eye(n)\n",
    "geneGFonc = lambda a,K: lambda x: a-x/K"
   ]
  },
  {
   "cell_type": "markdown",
   "id": "594c0cbe-1b6d-49bb-8826-7c8d27cdfa4b",
   "metadata": {},
   "source": [
    "### Matrice A(x)"
   ]
  },
  {
   "cell_type": "code",
   "execution_count": 4,
   "id": "0bf2a21c-9f66-497f-9b2b-8d26124ce134",
   "metadata": {
    "tags": []
   },
   "outputs": [],
   "source": [
    "g1= geneGFonc(0.7, 2)\n",
    "g2= geneGFonc(0.5, 3)\n",
    "g3= geneGFonc(0.2, 4)\n",
    "\n",
    "def A(x):\n",
    "    x1 = x[0,0]\n",
    "    x2 = x[0,1]\n",
    "    return np.diag([g1(0)-x1,g2(0)-x2,g3(0)]) +D"
   ]
  },
  {
   "cell_type": "markdown",
   "id": "17725b96-b791-4d9d-adce-c6780c3f6e1a",
   "metadata": {},
   "source": [
    "### Module de stabilité (contrainte)"
   ]
  },
  {
   "cell_type": "code",
   "execution_count": null,
   "id": "14662eb6-320d-4f02-9f77-00a0c17315cb",
   "metadata": {},
   "outputs": [],
   "source": [
    "def h(x):\n",
    "    eigv, eigp = np.linalg.eig(A(x))\n",
    "    real = eigv.real\n",
    "    return max(real)"
   ]
  },
  {
   "cell_type": "markdown",
   "id": "36343738-3743-4220-a946-3c20e436962b",
   "metadata": {},
   "source": [
    "### Coût et affichage"
   ]
  }
 ],
 "metadata": {
  "kernelspec": {
   "display_name": "Python 3 (ipykernel)",
   "language": "python",
   "name": "python3"
  },
  "language_info": {
   "codemirror_mode": {
    "name": "ipython",
    "version": 3
   },
   "file_extension": ".py",
   "mimetype": "text/x-python",
   "name": "python",
   "nbconvert_exporter": "python",
   "pygments_lexer": "ipython3",
   "version": "3.10.12"
  }
 },
 "nbformat": 4,
 "nbformat_minor": 5
}
